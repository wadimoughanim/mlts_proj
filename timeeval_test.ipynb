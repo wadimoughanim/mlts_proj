{
 "cells": [
  {
   "cell_type": "markdown",
   "metadata": {},
   "source": [
    "## read me test"
   ]
  },
  {
   "cell_type": "code",
   "execution_count": 1,
   "metadata": {},
   "outputs": [
    {
     "ename": "ModuleNotFoundError",
     "evalue": "No module named 'timeeval.algorithms'",
     "output_type": "error",
     "traceback": [
      "\u001b[1;31m---------------------------------------------------------------------------\u001b[0m",
      "\u001b[1;31mModuleNotFoundError\u001b[0m                       Traceback (most recent call last)",
      "Cell \u001b[1;32mIn[1], line 8\u001b[0m\n\u001b[0;32m      6\u001b[0m \u001b[38;5;28;01mfrom\u001b[39;00m \u001b[38;5;21;01mtimeeval\u001b[39;00m \u001b[38;5;28;01mimport\u001b[39;00m TimeEval, DatasetManager, Algorithm, TrainingType, InputDimensionality\n\u001b[0;32m      7\u001b[0m \u001b[38;5;28;01mfrom\u001b[39;00m \u001b[38;5;21;01mtimeeval\u001b[39;00m\u001b[38;5;21;01m.\u001b[39;00m\u001b[38;5;21;01madapters\u001b[39;00m \u001b[38;5;28;01mimport\u001b[39;00m FunctionAdapter\n\u001b[1;32m----> 8\u001b[0m \u001b[38;5;28;01mfrom\u001b[39;00m \u001b[38;5;21;01mtimeeval\u001b[39;00m\u001b[38;5;21;01m.\u001b[39;00m\u001b[38;5;21;01malgorithms\u001b[39;00m \u001b[38;5;28;01mimport\u001b[39;00m subsequence_if\n\u001b[0;32m      9\u001b[0m \u001b[38;5;28;01mfrom\u001b[39;00m \u001b[38;5;21;01mtimeeval\u001b[39;00m\u001b[38;5;21;01m.\u001b[39;00m\u001b[38;5;21;01mparams\u001b[39;00m \u001b[38;5;28;01mimport\u001b[39;00m FixedParameters\n\u001b[0;32m     11\u001b[0m \u001b[38;5;66;03m# Load dataset metadata\u001b[39;00m\n",
      "\u001b[1;31mModuleNotFoundError\u001b[0m: No module named 'timeeval.algorithms'"
     ]
    }
   ],
   "source": [
    "from pathlib import Path\n",
    "from typing import Dict, Any\n",
    "\n",
    "import numpy as np\n",
    "\n",
    "from timeeval import TimeEval, DatasetManager, Algorithm, TrainingType, InputDimensionality\n",
    "from timeeval.adapters import FunctionAdapter\n",
    "from timeeval.algorithms import subsequence_if\n",
    "from timeeval.params import FixedParameters\n",
    "\n",
    "# Load dataset metadata\n",
    "dm = DatasetManager(Path(\"tests/example_data\"), create_if_missing=False)\n",
    "\n",
    "\n",
    "# Define algorithm\n",
    "def my_algorithm(data: np.ndarray, args: Dict[str, Any]) -> np.ndarray:\n",
    "    score_value = args.get(\"score_value\", 0)\n",
    "    return np.full_like(data, fill_value=score_value)\n",
    "\n",
    "\n",
    "# Select datasets and algorithms\n",
    "datasets = dm.select()\n",
    "datasets = datasets[-1:]\n",
    "# Add algorithms to evaluate...\n",
    "algorithms = [\n",
    "    Algorithm(\n",
    "        name=\"MyAlgorithm\",\n",
    "        main=FunctionAdapter(my_algorithm),\n",
    "        data_as_file=False,\n",
    "        training_type=TrainingType.UNSUPERVISED,\n",
    "        input_dimensionality=InputDimensionality.UNIVARIATE,\n",
    "        param_config=FixedParameters({\"score_value\": 1.})\n",
    "    ),\n",
    "    subsequence_if(params=FixedParameters({\"n_trees\": 50}))\n",
    "]\n",
    "timeeval = TimeEval(dm, datasets, algorithms)\n",
    "\n",
    "# execute evaluation\n",
    "timeeval.run()\n",
    "# retrieve results\n",
    "print(timeeval.get_results())"
   ]
  },
  {
   "cell_type": "markdown",
   "metadata": {},
   "source": [
    "test 2"
   ]
  },
  {
   "cell_type": "code",
   "execution_count": 4,
   "metadata": {},
   "outputs": [
    {
     "ename": "ModuleNotFoundError",
     "evalue": "No module named 'timeeval.algorithms'",
     "output_type": "error",
     "traceback": [
      "\u001b[1;31m---------------------------------------------------------------------------\u001b[0m",
      "\u001b[1;31mModuleNotFoundError\u001b[0m                       Traceback (most recent call last)",
      "Cell \u001b[1;32mIn[4], line 9\u001b[0m\n\u001b[0;32m      7\u001b[0m \u001b[38;5;28;01mfrom\u001b[39;00m \u001b[38;5;21;01mtimeeval\u001b[39;00m \u001b[38;5;28;01mimport\u001b[39;00m TimeEval, DatasetManager, DefaultMetrics, Algorithm, TrainingType, InputDimensionality\n\u001b[0;32m      8\u001b[0m \u001b[38;5;28;01mfrom\u001b[39;00m \u001b[38;5;21;01mtimeeval\u001b[39;00m\u001b[38;5;21;01m.\u001b[39;00m\u001b[38;5;21;01madapters\u001b[39;00m \u001b[38;5;28;01mimport\u001b[39;00m DockerAdapter, FunctionAdapter\n\u001b[1;32m----> 9\u001b[0m \u001b[38;5;28;01mfrom\u001b[39;00m \u001b[38;5;21;01mtimeeval\u001b[39;00m\u001b[38;5;21;01m.\u001b[39;00m\u001b[38;5;21;01malgorithms\u001b[39;00m \u001b[38;5;28;01mimport\u001b[39;00m cof\n\u001b[0;32m     10\u001b[0m \u001b[38;5;28;01mfrom\u001b[39;00m \u001b[38;5;21;01mtimeeval\u001b[39;00m\u001b[38;5;21;01m.\u001b[39;00m\u001b[38;5;21;01mdata_types\u001b[39;00m \u001b[38;5;28;01mimport\u001b[39;00m AlgorithmParameter\n\u001b[0;32m     11\u001b[0m \u001b[38;5;28;01mfrom\u001b[39;00m \u001b[38;5;21;01mtimeeval\u001b[39;00m\u001b[38;5;21;01m.\u001b[39;00m\u001b[38;5;21;01mparams\u001b[39;00m \u001b[38;5;28;01mimport\u001b[39;00m FixedParameters\n",
      "\u001b[1;31mModuleNotFoundError\u001b[0m: No module named 'timeeval.algorithms'"
     ]
    }
   ],
   "source": [
    "#!/usr/bin/env python3\n",
    "from pathlib import Path\n",
    "from typing import Any, Dict\n",
    "\n",
    "import numpy as np\n",
    "\n",
    "from timeeval import TimeEval, DatasetManager, DefaultMetrics, Algorithm, TrainingType, InputDimensionality\n",
    "from timeeval.adapters import DockerAdapter, FunctionAdapter\n",
    "from timeeval.algorithms import cof\n",
    "from timeeval.data_types import AlgorithmParameter\n",
    "from timeeval.params import FixedParameters\n",
    "\n",
    "\n",
    "def your_algorithm_function(data: AlgorithmParameter, args: Dict[str, Any]) -> np.ndarray:\n",
    "    if isinstance(data, np.ndarray):\n",
    "        return np.zeros_like(data)\n",
    "    else:  # isinstance(data, pathlib.Path)\n",
    "        return np.genfromtxt(data, delimiter=\",\", skip_header=1)[:, 1]\n",
    "\n",
    "\n",
    "def main():\n",
    "    dm = DatasetManager(Path(\"tests/example_data\"), create_if_missing=False)\n",
    "    datasets = dm.select()\n",
    "\n",
    "    algorithms = [\n",
    "        Algorithm(\n",
    "            name=\"COF\",\n",
    "            main=DockerAdapter(image_name=\"ghcr.io/timeeval/cof\", skip_pull=True),\n",
    "            param_config=FixedParameters({\n",
    "                \"n_neighbors\": 20,\n",
    "                \"random_state\": 42\n",
    "            }),\n",
    "            data_as_file=True,\n",
    "            training_type=TrainingType.UNSUPERVISED,\n",
    "            input_dimensionality=InputDimensionality.MULTIVARIATE\n",
    "        ),\n",
    "        # or:\n",
    "        # cof(params=FixedParameters({\"n_neighbors\": 20, \"random_state\": 42})),\n",
    "        Algorithm(\n",
    "            name=\"MyPythonFunctionAlgorithm\",\n",
    "            main=FunctionAdapter(your_algorithm_function),\n",
    "            data_as_file=False\n",
    "        )\n",
    "    ]\n",
    "\n",
    "    timeeval = TimeEval(dm, datasets, algorithms, metrics=[DefaultMetrics.ROC_AUC, DefaultMetrics.RANGE_PR_AUC])\n",
    "    timeeval.run()\n",
    "    results = timeeval.get_results(aggregated=False)\n",
    "    print(results)\n",
    "\n",
    "\n",
    "if __name__ == \"__main__\":\n",
    "    main()"
   ]
  }
 ],
 "metadata": {
  "kernelspec": {
   "display_name": "oil_env",
   "language": "python",
   "name": "python3"
  },
  "language_info": {
   "codemirror_mode": {
    "name": "ipython",
    "version": 3
   },
   "file_extension": ".py",
   "mimetype": "text/x-python",
   "name": "python",
   "nbconvert_exporter": "python",
   "pygments_lexer": "ipython3",
   "version": "3.8.10"
  }
 },
 "nbformat": 4,
 "nbformat_minor": 2
}
