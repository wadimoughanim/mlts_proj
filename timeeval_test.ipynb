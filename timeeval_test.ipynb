{
 "cells": [
  {
   "cell_type": "code",
   "execution_count": 1,
   "metadata": {},
   "outputs": [
    {
     "ename": "ModuleNotFoundError",
     "evalue": "No module named 'timeeval.algorithms'",
     "output_type": "error",
     "traceback": [
      "\u001b[1;31m---------------------------------------------------------------------------\u001b[0m",
      "\u001b[1;31mModuleNotFoundError\u001b[0m                       Traceback (most recent call last)",
      "Cell \u001b[1;32mIn[1], line 8\u001b[0m\n\u001b[0;32m      6\u001b[0m \u001b[38;5;28;01mfrom\u001b[39;00m \u001b[38;5;21;01mtimeeval\u001b[39;00m \u001b[38;5;28;01mimport\u001b[39;00m TimeEval, DatasetManager, Algorithm, TrainingType, InputDimensionality\n\u001b[0;32m      7\u001b[0m \u001b[38;5;28;01mfrom\u001b[39;00m \u001b[38;5;21;01mtimeeval\u001b[39;00m\u001b[38;5;21;01m.\u001b[39;00m\u001b[38;5;21;01madapters\u001b[39;00m \u001b[38;5;28;01mimport\u001b[39;00m FunctionAdapter\n\u001b[1;32m----> 8\u001b[0m \u001b[38;5;28;01mfrom\u001b[39;00m \u001b[38;5;21;01mtimeeval\u001b[39;00m\u001b[38;5;21;01m.\u001b[39;00m\u001b[38;5;21;01malgorithms\u001b[39;00m \u001b[38;5;28;01mimport\u001b[39;00m subsequence_if\n\u001b[0;32m      9\u001b[0m \u001b[38;5;28;01mfrom\u001b[39;00m \u001b[38;5;21;01mtimeeval\u001b[39;00m\u001b[38;5;21;01m.\u001b[39;00m\u001b[38;5;21;01mparams\u001b[39;00m \u001b[38;5;28;01mimport\u001b[39;00m FixedParameters\n\u001b[0;32m     11\u001b[0m \u001b[38;5;66;03m# Load dataset metadata\u001b[39;00m\n",
      "\u001b[1;31mModuleNotFoundError\u001b[0m: No module named 'timeeval.algorithms'"
     ]
    }
   ],
   "source": [
    "from pathlib import Path\n",
    "from typing import Dict, Any\n",
    "\n",
    "import numpy as np\n",
    "\n",
    "from timeeval import TimeEval, DatasetManager, Algorithm, TrainingType, InputDimensionality\n",
    "from timeeval.adapters import FunctionAdapter\n",
    "from timeeval.algorithms import subsequence_if\n",
    "from timeeval.params import FixedParameters\n",
    "\n",
    "# Load dataset metadata\n",
    "dm = DatasetManager(Path(\"tests/example_data\"), create_if_missing=False)\n",
    "\n",
    "\n",
    "# Define algorithm\n",
    "def my_algorithm(data: np.ndarray, args: Dict[str, Any]) -> np.ndarray:\n",
    "    score_value = args.get(\"score_value\", 0)\n",
    "    return np.full_like(data, fill_value=score_value)\n",
    "\n",
    "\n",
    "# Select datasets and algorithms\n",
    "datasets = dm.select()\n",
    "datasets = datasets[-1:]\n",
    "# Add algorithms to evaluate...\n",
    "algorithms = [\n",
    "    Algorithm(\n",
    "        name=\"MyAlgorithm\",\n",
    "        main=FunctionAdapter(my_algorithm),\n",
    "        data_as_file=False,\n",
    "        training_type=TrainingType.UNSUPERVISED,\n",
    "        input_dimensionality=InputDimensionality.UNIVARIATE,\n",
    "        param_config=FixedParameters({\"score_value\": 1.})\n",
    "    ),\n",
    "    subsequence_if(params=FixedParameters({\"n_trees\": 50}))\n",
    "]\n",
    "timeeval = TimeEval(dm, datasets, algorithms)\n",
    "\n",
    "# execute evaluation\n",
    "timeeval.run()\n",
    "# retrieve results\n",
    "print(timeeval.get_results())"
   ]
  }
 ],
 "metadata": {
  "kernelspec": {
   "display_name": "oil_env",
   "language": "python",
   "name": "python3"
  },
  "language_info": {
   "codemirror_mode": {
    "name": "ipython",
    "version": 3
   },
   "file_extension": ".py",
   "mimetype": "text/x-python",
   "name": "python",
   "nbconvert_exporter": "python",
   "pygments_lexer": "ipython3",
   "version": "3.8.10"
  }
 },
 "nbformat": 4,
 "nbformat_minor": 2
}
