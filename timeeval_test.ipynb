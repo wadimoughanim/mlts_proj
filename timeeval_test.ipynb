{
 "cells": [
  {
   "cell_type": "markdown",
   "metadata": {},
   "source": [
    "## read me test"
   ]
  },
  {
   "cell_type": "code",
   "execution_count": 2,
   "metadata": {},
   "outputs": [
    {
     "ename": "ModuleNotFoundError",
     "evalue": "No module named 'root_timeeval'",
     "output_type": "error",
     "traceback": [
      "\u001b[0;31m---------------------------------------------------------------------------\u001b[0m",
      "\u001b[0;31mModuleNotFoundError\u001b[0m                       Traceback (most recent call last)",
      "Cell \u001b[0;32mIn[2], line 8\u001b[0m\n\u001b[1;32m      6\u001b[0m \u001b[38;5;28;01mfrom\u001b[39;00m \u001b[38;5;21;01mtimeeval\u001b[39;00m \u001b[38;5;28;01mimport\u001b[39;00m TimeEval, DatasetManager, Algorithm, TrainingType, InputDimensionality\n\u001b[1;32m      7\u001b[0m \u001b[38;5;28;01mfrom\u001b[39;00m \u001b[38;5;21;01mtimeeval\u001b[39;00m\u001b[38;5;21;01m.\u001b[39;00m\u001b[38;5;21;01madapters\u001b[39;00m \u001b[38;5;28;01mimport\u001b[39;00m FunctionAdapter\n\u001b[0;32m----> 8\u001b[0m \u001b[38;5;28;01mfrom\u001b[39;00m \u001b[38;5;21;01mroot_timeeval\u001b[39;00m\u001b[38;5;21;01m.\u001b[39;00m\u001b[38;5;21;01mTimeEval\u001b[39;00m\u001b[38;5;21;01m.\u001b[39;00m\u001b[38;5;21;01mtimeeval\u001b[39;00m\u001b[38;5;21;01m.\u001b[39;00m\u001b[38;5;21;01malgorithms\u001b[39;00m \u001b[38;5;28;01mimport\u001b[39;00m subsequence_if\n\u001b[1;32m      9\u001b[0m \u001b[38;5;28;01mfrom\u001b[39;00m \u001b[38;5;21;01mtimeeval\u001b[39;00m\u001b[38;5;21;01m.\u001b[39;00m\u001b[38;5;21;01mparams\u001b[39;00m \u001b[38;5;28;01mimport\u001b[39;00m FixedParameters\n\u001b[1;32m     11\u001b[0m \u001b[38;5;66;03m# Load dataset metadata\u001b[39;00m\n",
      "\u001b[0;31mModuleNotFoundError\u001b[0m: No module named 'root_timeeval'"
     ]
    }
   ],
   "source": [
    "from pathlib import Path\n",
    "from typing import Dict, Any\n",
    "\n",
    "import numpy as np\n",
    "\n",
    "from timeeval import TimeEval, DatasetManager, Algorithm, TrainingType, InputDimensionality\n",
    "from timeeval.adapters import FunctionAdapter\n",
    "from root_timeeval.TimeEval.timeeval.algorithms import subsequence_if\n",
    "from timeeval.params import FixedParameters\n",
    "\n",
    "# Load dataset metadata\n",
    "dm = DatasetManager(Path(\"tests/example_data\"), create_if_missing=False)\n",
    "\n",
    "\n",
    "# Define algorithm\n",
    "def my_algorithm(data: np.ndarray, args: Dict[str, Any]) -> np.ndarray:\n",
    "    score_value = args.get(\"score_value\", 0)\n",
    "    return np.full_like(data, fill_value=score_value)\n",
    "\n",
    "\n",
    "# Select datasets and algorithms\n",
    "datasets = dm.select()\n",
    "datasets = datasets[-1:]\n",
    "# Add algorithms to evaluate...\n",
    "algorithms = [\n",
    "    Algorithm(\n",
    "        name=\"MyAlgorithm\",\n",
    "        main=FunctionAdapter(my_algorithm),\n",
    "        data_as_file=False,\n",
    "        training_type=TrainingType.UNSUPERVISED,\n",
    "        input_dimensionality=InputDimensionality.UNIVARIATE,\n",
    "        param_config=FixedParameters({\"score_value\": 1.})\n",
    "    ),\n",
    "    subsequence_if(params=FixedParameters({\"n_trees\": 50}))\n",
    "]\n",
    "timeeval = TimeEval(dm, datasets, algorithms)\n",
    "\n",
    "# execute evaluation\n",
    "timeeval.run()\n",
    "# retrieve results\n",
    "print(timeeval.get_results())"
   ]
  },
  {
   "cell_type": "markdown",
   "metadata": {},
   "source": [
    "test 2"
   ]
  },
  {
   "cell_type": "code",
   "execution_count": null,
   "metadata": {},
   "outputs": [
    {
     "name": "stdout",
     "output_type": "stream",
     "text": [
      "/Users/wadimoughanim/Documents/education/Master_MVA/mlts_proj/root_timeeval/TimeEval\n"
     ]
    }
   ],
   "source": [
    "cd /Users/wadimoughanim/Documents/education/Master_MVA/mlts_proj/root_timeeval/TimeEval"
   ]
  },
  {
   "cell_type": "code",
   "execution_count": null,
   "metadata": {},
   "outputs": [
    {
     "name": "stdout",
     "output_type": "stream",
     "text": [
      "__init__.py                   median_method.py\n",
      "arima.py                      mscred.py\n",
      "autoencoder.py                mstamp.py\n",
      "bagel.py                      mtad_gat.py\n",
      "baseline_increasing.py        multi_hmm.py\n",
      "baseline_normal.py            multi_norma.py\n",
      "baseline_random.py            multi_subsequence_lof.py\n",
      "cblof.py                      mvalmod.py\n",
      "cof.py                        norma.py\n",
      "copod.py                      normalizing_flows.py\n",
      "dae.py                        novelty_svr.py\n",
      "damp.py                       numenta_htm.py\n",
      "dbstream.py                   ocean_wnn.py\n",
      "deepant.py                    omnianomaly.py\n",
      "deepnap.py                    pcc.py\n",
      "donut.py                      pci.py\n",
      "dspot.py                      phasespace_svm.py\n",
      "dwt_mlead.py                  pst.py\n",
      "eif.py                        random_black_forest.py\n",
      "encdec_ad.py                  robust_pca.py\n",
      "ensemble_gi.py                s_h_esd.py\n",
      "fast_mcd.py                   sand.py\n",
      "fft.py                        sarima.py\n",
      "generic_rf.py                 series2graph.py\n",
      "generic_xgb.py                sr.py\n",
      "grammarviz3.py                sr_cnn.py\n",
      "grammarviz3_multi.py          ssa.py\n",
      "hbos.py                       stamp.py\n",
      "health_esn.py                 stomp.py\n",
      "hif.py                        subsequence_fast_mcd.py\n",
      "hotsax.py                     subsequence_if.py\n",
      "hybrid_knn.py                 subsequence_knn.py\n",
      "if_lof.py                     subsequence_lof.py\n",
      "iforest.py                    subsequence_lof_multi_sum.py\n",
      "img_embedding_cae.py          tanogan.py\n",
      "kmeans.py                     tarzan.py\n",
      "knn.py                        telemanom.py\n",
      "laser_dbn.py                  torsk.py\n",
      "left_stampi.py                triple_es.py\n",
      "lof.py                        ts_bitmap.py\n",
      "lstm_ad.py                    valmod.py\n",
      "lstm_vae.py\n"
     ]
    }
   ],
   "source": [
    "ls timeeval/algorithms"
   ]
  },
  {
   "cell_type": "code",
   "execution_count": null,
   "metadata": {},
   "outputs": [
    {
     "name": "stdout",
     "output_type": "stream",
     "text": [
      "CITATION.cff                requirements.txt\n",
      "LICENSE                     \u001b[34mresults\u001b[m\u001b[m/\n",
      "MANIFEST.in                 \u001b[34mscripts\u001b[m\u001b[m/\n",
      "README.md                   setup.cfg\n",
      "conftest.py                 setup.py\n",
      "\u001b[34mdocs\u001b[m\u001b[m/                       \u001b[34mtests\u001b[m\u001b[m/\n",
      "\u001b[31measy-example-experiment.py\u001b[m\u001b[m* \u001b[34mtimeeval\u001b[m\u001b[m/\n",
      "\u001b[31mexample-experiment.py\u001b[m\u001b[m*      timeeval-icon.png\n",
      "\u001b[34mnotebooks\u001b[m\u001b[m/                  timeeval.png\n",
      "requirements.ci             \u001b[34mtimeeval_experiments\u001b[m\u001b[m/\n",
      "requirements.dev\n"
     ]
    }
   ],
   "source": [
    "ls"
   ]
  },
  {
   "cell_type": "code",
   "execution_count": null,
   "metadata": {},
   "outputs": [
    {
     "name": "stdout",
     "output_type": "stream",
     "text": [
      "{'ID': '3e0420d0-a0cb-48d2-b97f-26552701f728', 'Containers': 0, 'ContainersRunning': 0, 'ContainersPaused': 0, 'ContainersStopped': 0, 'Images': 0, 'Driver': 'overlay2', 'DriverStatus': [['Backing Filesystem', 'extfs'], ['Supports d_type', 'true'], ['Using metacopy', 'false'], ['Native Overlay Diff', 'true'], ['userxattr', 'false']], 'Plugins': {'Volume': ['local'], 'Network': ['bridge', 'host', 'ipvlan', 'macvlan', 'null', 'overlay'], 'Authorization': None, 'Log': ['awslogs', 'fluentd', 'gcplogs', 'gelf', 'journald', 'json-file', 'local', 'logentries', 'splunk', 'syslog']}, 'MemoryLimit': True, 'SwapLimit': True, 'CpuCfsPeriod': True, 'CpuCfsQuota': True, 'CPUShares': True, 'CPUSet': True, 'PidsLimit': True, 'IPv4Forwarding': True, 'BridgeNfIptables': True, 'BridgeNfIp6tables': True, 'Debug': False, 'NFd': 39, 'OomKillDisable': False, 'NGoroutines': 55, 'SystemTime': '2024-01-04T18:09:54.372410085Z', 'LoggingDriver': 'json-file', 'CgroupDriver': 'cgroupfs', 'CgroupVersion': '2', 'NEventsListener': 9, 'KernelVersion': '6.5.11-linuxkit', 'OperatingSystem': 'Docker Desktop', 'OSVersion': '', 'OSType': 'linux', 'Architecture': 'aarch64', 'IndexServerAddress': 'https://index.docker.io/v1/', 'RegistryConfig': {'AllowNondistributableArtifactsCIDRs': None, 'AllowNondistributableArtifactsHostnames': None, 'InsecureRegistryCIDRs': ['127.0.0.0/8'], 'IndexConfigs': {'docker.io': {'Name': 'docker.io', 'Mirrors': [], 'Secure': True, 'Official': True}, 'hubproxy.docker.internal:5555': {'Name': 'hubproxy.docker.internal:5555', 'Mirrors': [], 'Secure': False, 'Official': False}}, 'Mirrors': None}, 'NCPU': 8, 'MemTotal': 8227811328, 'GenericResources': None, 'DockerRootDir': '/var/lib/docker', 'HttpProxy': 'http.docker.internal:3128', 'HttpsProxy': 'http.docker.internal:3128', 'NoProxy': 'hubproxy.docker.internal', 'Name': 'docker-desktop', 'Labels': [], 'ExperimentalBuild': False, 'ServerVersion': '24.0.7', 'Runtimes': {'io.containerd.runc.v2': {'path': 'runc'}, 'runc': {'path': 'runc'}}, 'DefaultRuntime': 'runc', 'Swarm': {'NodeID': '', 'NodeAddr': '', 'LocalNodeState': 'inactive', 'ControlAvailable': False, 'Error': '', 'RemoteManagers': None}, 'LiveRestoreEnabled': False, 'Isolation': '', 'InitBinary': 'docker-init', 'ContainerdCommit': {'ID': 'd8f198a4ed8892c764191ef7b3b06d8a2eeb5c7f', 'Expected': 'd8f198a4ed8892c764191ef7b3b06d8a2eeb5c7f'}, 'RuncCommit': {'ID': 'v1.1.10-0-g18a0cb0', 'Expected': 'v1.1.10-0-g18a0cb0'}, 'InitCommit': {'ID': 'de40ad0', 'Expected': 'de40ad0'}, 'SecurityOptions': ['name=seccomp,profile=unconfined', 'name=cgroupns'], 'Warnings': ['WARNING: daemon is not using the default seccomp profile']}\n"
     ]
    },
    {
     "name": "stderr",
     "output_type": "stream",
     "text": [
      "/Users/wadimoughanim/Library/Python/3.9/lib/python/site-packages/urllib3/__init__.py:34: NotOpenSSLWarning: urllib3 v2.0 only supports OpenSSL 1.1.1+, currently the 'ssl' module is compiled with 'LibreSSL 2.8.3'. See: https://github.com/urllib3/urllib3/issues/3020\n",
      "  warnings.warn(\n"
     ]
    }
   ],
   "source": [
    "import docker\n",
    "client = docker.from_env()\n",
    "print(client.info())\n"
   ]
  },
  {
   "cell_type": "code",
   "execution_count": null,
   "metadata": {},
   "outputs": [
    {
     "name": "stderr",
     "output_type": "stream",
     "text": [
      "/Users/wadimoughanim/Library/Python/3.9/lib/python/site-packages/urllib3/__init__.py:34: NotOpenSSLWarning: urllib3 v2.0 only supports OpenSSL 1.1.1+, currently the 'ssl' module is compiled with 'LibreSSL 2.8.3'. See: https://github.com/urllib3/urllib3/issues/3020\n",
      "  warnings.warn(\n"
     ]
    },
    {
     "ename": "ModuleNotFoundError",
     "evalue": "No module named 'root_timeeval'",
     "output_type": "error",
     "traceback": [
      "\u001b[0;31m---------------------------------------------------------------------------\u001b[0m",
      "\u001b[0;31mModuleNotFoundError\u001b[0m                       Traceback (most recent call last)",
      "Cell \u001b[0;32mIn[1], line 8\u001b[0m\n\u001b[1;32m      6\u001b[0m \u001b[38;5;28;01mfrom\u001b[39;00m \u001b[38;5;21;01mtimeeval\u001b[39;00m \u001b[38;5;28;01mimport\u001b[39;00m TimeEval, DatasetManager, DefaultMetrics, Algorithm, TrainingType, InputDimensionality\n\u001b[1;32m      7\u001b[0m \u001b[38;5;28;01mfrom\u001b[39;00m \u001b[38;5;21;01mtimeeval\u001b[39;00m\u001b[38;5;21;01m.\u001b[39;00m\u001b[38;5;21;01madapters\u001b[39;00m \u001b[38;5;28;01mimport\u001b[39;00m DockerAdapter, FunctionAdapter\n\u001b[0;32m----> 8\u001b[0m \u001b[38;5;28;01mfrom\u001b[39;00m \u001b[38;5;21;01mroot_timeeval\u001b[39;00m\u001b[38;5;21;01m.\u001b[39;00m\u001b[38;5;21;01mTimeEval\u001b[39;00m\u001b[38;5;21;01m.\u001b[39;00m\u001b[38;5;21;01mtimeeval\u001b[39;00m\u001b[38;5;21;01m.\u001b[39;00m\u001b[38;5;21;01malgorithms\u001b[39;00m \u001b[38;5;28;01mimport\u001b[39;00m cof\n\u001b[1;32m     10\u001b[0m \u001b[38;5;66;03m# from timeeval.algorithms import cof\u001b[39;00m\n\u001b[1;32m     11\u001b[0m \u001b[38;5;28;01mfrom\u001b[39;00m \u001b[38;5;21;01mtimeeval\u001b[39;00m\u001b[38;5;21;01m.\u001b[39;00m\u001b[38;5;21;01mdata_types\u001b[39;00m \u001b[38;5;28;01mimport\u001b[39;00m AlgorithmParameter\n",
      "\u001b[0;31mModuleNotFoundError\u001b[0m: No module named 'root_timeeval'"
     ]
    }
   ],
   "source": [
    "\n",
    "from pathlib import Path\n",
    "from typing import Any, Dict\n",
    "\n",
    "import numpy as np\n",
    "\n",
    "from timeeval import TimeEval, DatasetManager, DefaultMetrics, Algorithm, TrainingType, InputDimensionality\n",
    "from timeeval.adapters import DockerAdapter, FunctionAdapter\n",
    "from root_timeeval.TimeEval.timeeval.algorithms import cof\n",
    "\n",
    "# from timeeval.algorithms import cof\n",
    "from timeeval.data_types import AlgorithmParameter\n",
    "from timeeval.params import FixedParameters\n",
    "\n",
    "\n",
    "def your_algorithm_function(data: AlgorithmParameter, args: Dict[str, Any]) -> np.ndarray:\n",
    "    if isinstance(data, np.ndarray):\n",
    "        return np.zeros_like(data)\n",
    "    else:  # isinstance(data, pathlib.Path)\n",
    "        return np.genfromtxt(data, delimiter=\",\", skip_header=1)[:, 1]\n",
    "\n",
    "\n",
    "def main():\n",
    "    dm = DatasetManager(Path(\"tests/example_data\"), create_if_missing=False)\n",
    "    datasets = dm.select()\n",
    "\n",
    "    algorithms = [\n",
    "        Algorithm(\n",
    "            name=\"COF\",\n",
    "            main=DockerAdapter(image_name=\"ghcr.io/timeeval/cof\", skip_pull=True),\n",
    "            param_config=FixedParameters({\n",
    "                \"n_neighbors\": 20,\n",
    "                \"random_state\": 42\n",
    "            }),\n",
    "            data_as_file=True,\n",
    "            training_type=TrainingType.UNSUPERVISED,\n",
    "            input_dimensionality=InputDimensionality.MULTIVARIATE\n",
    "        ),\n",
    "        # or:\n",
    "        # cof(params=FixedParameters({\"n_neighbors\": 20, \"random_state\": 42})),\n",
    "        Algorithm(\n",
    "            name=\"MyPythonFunctionAlgorithm\",\n",
    "            main=FunctionAdapter(your_algorithm_function),\n",
    "            data_as_file=False\n",
    "        )\n",
    "    ]\n",
    "\n",
    "    timeeval = TimeEval(dm, datasets, algorithms, metrics=[DefaultMetrics.ROC_AUC, DefaultMetrics.RANGE_PR_AUC])\n",
    "    timeeval.run()\n",
    "    results = timeeval.get_results(aggregated=False)\n",
    "    print(results)\n",
    "\n",
    "\n",
    "if __name__ == \"__main__\":\n",
    "    main()"
   ]
  },
  {
   "cell_type": "code",
   "execution_count": null,
   "metadata": {},
   "outputs": [
    {
     "name": "stdout",
     "output_type": "stream",
     "text": [
      "Using default tag: latest\n",
      "latest: Pulling from timeeval/cof\n",
      "no matching manifest for linux/arm64/v8 in the manifest list entries\n"
     ]
    }
   ],
   "source": [
    "!docker pull ghcr.io/timeeval/cof"
   ]
  }
 ],
 "metadata": {
  "kernelspec": {
   "display_name": "oil_env",
   "language": "python",
   "name": "python3"
  },
  "language_info": {
   "codemirror_mode": {
    "name": "ipython",
    "version": 3
   },
   "file_extension": ".py",
   "mimetype": "text/x-python",
   "name": "python",
   "nbconvert_exporter": "python",
   "pygments_lexer": "ipython3",
   "version": "3.9.6"
  }
 },
 "nbformat": 4,
 "nbformat_minor": 2
}
